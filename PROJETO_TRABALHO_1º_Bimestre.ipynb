{
  "nbformat": 4,
  "nbformat_minor": 0,
  "metadata": {
    "colab": {
      "name": " PROJETO - TRABALHO - 1º Bimestre.ipynb",
      "provenance": [],
      "collapsed_sections": [],
      "include_colab_link": true
    },
    "kernelspec": {
      "name": "python3",
      "display_name": "Python 3"
    }
  },
  "cells": [
    {
      "cell_type": "markdown",
      "metadata": {
        "id": "view-in-github",
        "colab_type": "text"
      },
      "source": [
        "<a href=\"https://colab.research.google.com/github/TASIO852/Colab/blob/main/PROJETO_TRABALHO_1%C2%BA_Bimestre.ipynb\" target=\"_parent\"><img src=\"https://colab.research.google.com/assets/colab-badge.svg\" alt=\"Open In Colab\"/></a>"
      ]
    },
    {
      "cell_type": "markdown",
      "metadata": {
        "id": "G90zxY79qIXe"
      },
      "source": [
        "<?xml version=\"1.0\" encoding=\"UTF-8\"?>\n",
        "<html>\n",
        "  <body>\n",
        "    <header></header>\n",
        "        <CENTER>\n",
        "          <img src=\"https://www.uvv.br/wp-content/themes/uvvBr/templates/assets//img/logouvv.svg\" alt=\"UVV-LOGO\" style = width=\"100px\"; height=\"100px\">\n",
        "        </CENTER>\n",
        "        <CENTER>\n",
        "          <b>\n",
        "            <font size=\"5\">Laboratorio de Programação  - Python\n",
        "          </b>\n",
        "          </CENTER>\n",
        "        <CENTER><b>ATIVIDADADE AVALIATIVA - 1º Bimestre</b></CENTER>\n",
        "        <CENTER><b>Modularização</b></CENTER><br/>\n",
        "        </font>"
      ]
    },
    {
      "cell_type": "markdown",
      "metadata": {
        "id": "pAvcJMN9pWF7"
      },
      "source": [
        "[LINK PARA NOTEBOOK](https://colab.research.google.com/drive/1uaEN3CPMKNJrRBhVPZGAudFZttmZ6Lm5#scrollTo=82tCdZ3O6oW_)"
      ]
    },
    {
      "cell_type": "markdown",
      "metadata": {
        "id": "cLujfo1hPOvL"
      },
      "source": [
        "**Grupo**\n",
        "*   Gabriel de Almeida Machado\n",
        "*   Tasio Breno Santos Guimaraes\n",
        "*   Celso Eloy Guedes Tomaz da Silva\n",
        "\n"
      ]
    },
    {
      "cell_type": "markdown",
      "metadata": {
        "id": "f9ZDfupayVHd"
      },
      "source": [
        "#6) Crie uma função que calcule o IMC (Índice de Massa Corpórea) de uma pessoa com base na sua altura,\n",
        "massa e sexo conforme tabela. Na célula do programa principal, use a função e exiba o IMC de 100\n",
        "entrevistados (um por um).\n",
        "Sexo Fórmula\n",
        "1 : Feminino 𝐼𝑀𝐶 =\n",
        "0.95 * 𝑀𝑎𝑠𝑠𝑎\n",
        "𝐴𝑙𝑡𝑢𝑟𝑎\n",
        "( 2 )\n",
        "2: Masculino 𝐼𝑀𝐶 =\n",
        "1.05 * 𝑀𝑎𝑠𝑠𝑎\n",
        "𝐴𝑙𝑡𝑢𝑟𝑎\n",
        "( 2 )"
      ]
    },
    {
      "cell_type": "code",
      "metadata": {
        "id": "6ca4_eEey6cj"
      },
      "source": [
        "def imc (mass,alt, ?):\n",
        "  if sex == \"f\":\n",
        "    imf = (0.95*mass)/alt**2\n",
        "    return imf\n",
        "  else:\n",
        "    imc = (1.05*mass)/alt**2\n",
        "    return imc"
      ],
      "execution_count": null,
      "outputs": []
    },
    {
      "cell_type": "code",
      "metadata": {
        "id": "5pOTh7n97yWD",
        "colab": {
          "base_uri": "https://localhost:8080/"
        },
        "outputId": "b964ab13-acdb-402b-ce0c-59095dac3ab4"
      },
      "source": [
        "paciente = 0 \n",
        "while True: \n",
        "  sex = str(input(\"Qual é o seu sexo se for feminino coloque [F] se for masculino coloque [M] \"))\n",
        "  mass = float(input(\"Qual é o seu peso em kg ? \"))\n",
        "  alt = float(input(\"Qual é a sua altura exata (metros e centimetros) ? \"))\n",
        "  paciente+=1\n",
        "  print(f\"seu indice de massa corporea e de : {imc(mass,alt, ?): .2f}\")\n",
        "  break"
      ],
      "execution_count": null,
      "outputs": [
        {
          "output_type": "stream",
          "name": "stdout",
          "text": [
            "Qual é o seu sexo se for feminino coloque [F] se for masculino coloque [M] f\n",
            "Qual é o seu peso em kg ? 12\n",
            "Qual é a sua altura exata (metros e centimetros) ? 32\n",
            "seu indice de massa corporea e de :  0.01\n"
          ]
        }
      ]
    },
    {
      "cell_type": "markdown",
      "metadata": {
        "id": "8eVtPzBN0q6D"
      },
      "source": [
        "#9) Crie uma função e seu protótipo que receba como argumento o preço de uma mercadoria e seu reajuste em porcentagem, retorne o preço reajustado e o reajuste calculado em reais. Após isso, use a função no programa principal e exiba o preço reajustado e o reajuste de 100 mercadorias informadas pelo usuário.**"
      ]
    },
    {
      "cell_type": "code",
      "metadata": {
        "id": "NJ9uJy8L2Cd9"
      },
      "source": [
        "def mercadoria(preco,reajuste):\n",
        "  if preco >= 100:\n",
        "    reajuste_porcentagem = reajuste / 100\n",
        "    preco_reajustado = (preco * reajuste_porcentagem) + preco\n",
        "    reajusteReais = preco_reajustado - preco\n",
        "    return reajusteReais,preco_reajustado\n",
        "  elif preco <= 100:\n",
        "    reajuste_porcentagem = reajuste / 100\n",
        "    preco_reajustado = preco - (preco * reajuste_porcentagem)\n",
        "    reajusteReais = preco_reajustado - preco\n",
        "    return reajusteReais,preco_reajustado\n",
        "  else:\n",
        "    return False"
      ],
      "execution_count": null,
      "outputs": []
    },
    {
      "cell_type": "code",
      "metadata": {
        "id": "MccyzUhocsW5"
      },
      "source": [
        "clientes = 0\n",
        "for clientes in range (1,100):\n",
        "  preco = int(input('Coloque o valor da mercadoria : '))\n",
        "  reajuste = int(input('valor do reajuste em porcentagem : '))\n",
        "  reajusteReais,preco_reajustado = mercadoria(preco,reajuste)\n",
        "  if reajusteReais < 0 :\n",
        "    print(f'Sua mercadoria custa agora {preco_reajustado: .2f} e foi reajustado em {reajusteReais: .2f} reais e vc recebeu desconto')\n",
        "  else:\n",
        "    print(f'Sua mercadoria custa agora {preco_reajustado: .2f} e foi reajustado em {reajusteReais: .2f} reais e vc recebeu acresimo')\n",
        "  clientes+=1"
      ],
      "execution_count": null,
      "outputs": []
    },
    {
      "cell_type": "markdown",
      "metadata": {
        "id": "PhOZKMg02C1r"
      },
      "source": [
        "#10) Crie somente uma (1) função e seu protótipo, conforme para a descrição dos exercícios: 3 acima.\n"
      ]
    },
    {
      "cell_type": "markdown",
      "metadata": {
        "id": "p7cr4G9l17Lz"
      },
      "source": [
        "3) Criar duas funções e seus protótipos que calculam a Combinação e o Arranjo de 𝑛 elementos\n",
        "combinados 𝑝 a 𝑝. Após isso, na célula do programa principal, use as funções criadas várias vezes e\n",
        "exiba o resultado da Combinação e do Arranjo enquanto os valores lidos do usuário: 𝑛 e 𝑝 estiverem\n",
        "corretos. Sabe-se que:\n",
        "𝐴𝑟𝑟𝑎𝑛𝑗𝑜(𝑛, 𝑝) =\n",
        "𝑛!\n",
        "(𝑛−𝑝)!\n",
        "𝐶𝑜𝑚𝑏𝑖𝑛𝑎çã𝑜(𝑛, 𝑝) =\n",
        "𝐴𝑟𝑟𝑎𝑛𝑗𝑜(𝑛, 𝑝)\n",
        "𝑝!\n",
        "; 𝑠𝑒𝑛𝑑𝑜 𝑞𝑢𝑒: 𝑛 𝑒 𝑝 ≥ 0 𝑒 𝑛 ≥ �"
      ]
    },
    {
      "cell_type": "code",
      "metadata": {
        "id": "bM_e11gH6oD4"
      },
      "source": [
        "def main():\n",
        "      n = int(input(\"Digite o valor de n: \"))\n",
        "      p = int(input(\"Digite o valor de p: \"))\n",
        "    fat = 1\n",
        "    fatp = 1\n",
        "    fatd = 1\n",
        "    a = 2\n",
        "    i = 2\n",
        "    e = 2\n",
        "    while i <= n:\n",
        "        fat = fat*i\n",
        "        i = i + 1\n",
        "    while e <= (n - p):\n",
        "        fatd = fatd*e\n",
        "        e = e + 1\n",
        "    while a <= p:\n",
        "        fatp = fatp*a\n",
        "        a = a + 1\n",
        "  \n",
        "    arranjo = fat*fatd\n",
        "    comjunto = arranjo*fatp\n",
        "    print(f'O fatorial de n é = {fat}')\n",
        "    print(f'O fatorial de p é = {fatp}')\n",
        "    print(f'O fatorial de n-p é = {fatd}')\n",
        "    print(f'O arranjo é = {arranjo}')\n",
        "    print(f'O comjunto é = {comjunto}')\n",
        "\n",
        "#-----\n",
        "main()\n"
      ],
      "execution_count": null,
      "outputs": []
    },
    {
      "cell_type": "markdown",
      "metadata": {
        "id": "82tCdZ3O6oW_"
      },
      "source": [
        "#14) Crie uma função e seu protótipo que receba a hora de entrada e saída de um estacionamento e retorne o tempo de permanência e total a pagar. Na célula do programa principal o usuário informa:\n",
        "\n",
        "Hora de entrada (HH:MM): Exemplo: 13:37 -\n",
        "Hora de saída (HH:MM): Exemplo: 18:41 = (HH:MM): Exemplo: 04:64 \n",
        "→ 5 Horas de permanência no estacionamento.\n",
        "\n",
        "Preço: R$ 7.00 por hora.\n"
      ]
    },
    {
      "cell_type": "code",
      "metadata": {
        "id": "rbmO-QnY7JVh"
      },
      "source": [
        "def parquimetro(HE,ME,HS,MS,preco):\n",
        "  permH = (HS-HE)*60\n",
        "  permM = MS-ME \n",
        "  permanencia = (permH + permM) / 60\n",
        "  preco = permanencia * 7 # oque considera na hora de cobrar e so a hora de permanencia nao o minuto pq ta cobranco por hora\n",
        "  return permanencia,preco"
      ],
      "execution_count": null,
      "outputs": []
    },
    {
      "cell_type": "code",
      "metadata": {
        "id": "mjpk1a17YaT_"
      },
      "source": [
        "while True:\n",
        "  HE = int(input('INSIRA A HORA DE CHEGADA NO ESTACIONAMENTO: '))\n",
        "  ME = int(input('INSIRA OS MINUTOS DE CHEGADA NO ESTACIONAMENTO: '))\n",
        "  HS = int(input('INSIRA A HORA DE SAIDA NO ESTACIONAMENTO: '))\n",
        "  MS = int(input('INSIRA OS MINUTOS DE SAIDA NO ESTACIONAMENTO: '))\n",
        "  permanencia,preco = parquimetro(HE,ME,HS,MS,preco)\n",
        "  if HE > 24 or HS > 24 :\n",
        "    print('Voce exedeu o horario de permanencia va ao caixa e pague a diaria ')\n",
        "  elif MS >= 60 or ME >= 60:\n",
        "    print('coloque o formato dos minutos corretamente')\n",
        "  else:\n",
        "    print(f'total a pagar e {preco: .2f} e seu tempo de permanencia foi de {permanencia: .2f} horas')\n",
        "  break"
      ],
      "execution_count": null,
      "outputs": []
    },
    {
      "cell_type": "markdown",
      "metadata": {
        "id": "I782LkMl7Jvo"
      },
      "source": [
        "#16)  Faça um programa Python modularizado que:\n",
        "(i) Tenha uma função que calcule e retorne a área de um círculo de raio R;\n",
        "\n",
        "(ii) Tenha outra função que calcule e retorne o volume do cilindro reto.\n",
        "\n",
        "A função de (ii) deve usar a função de (i).\n",
        "\n",
        "O raio e a altura de um cilindro devem ser lidos do teclado na célula do programa principal.\n",
        "\n",
        "Obs.: Área do círculo: A = π . r²\n",
        "\n",
        "Volume do Cilindro: Área do Círculo da Base vezes a Altura.\n"
      ]
    },
    {
      "cell_type": "code",
      "metadata": {
        "id": "AjAqkf897Uun"
      },
      "source": [
        "def area(r):\n",
        "  A = (3.14 * r) ** 2\n",
        "  return A"
      ],
      "execution_count": null,
      "outputs": []
    },
    {
      "cell_type": "code",
      "metadata": {
        "id": "S4LqU1hBe95B"
      },
      "source": [
        "def volume_cilindro(h):\n",
        "  vol = area(r) * h\n",
        "  return vol "
      ],
      "execution_count": null,
      "outputs": []
    },
    {
      "cell_type": "code",
      "metadata": {
        "id": "I8AD7NTAgJKQ"
      },
      "source": [
        "r  = float(input('coloque o raio da circuferencia '))\n",
        "h  = float(input('coloque a altura do cilindo '))\n",
        "print(f'a area e {area(r): .2f}')\n",
        "print(f'o volume do cilindro e {volume_cilindro(h): .2f}')"
      ],
      "execution_count": null,
      "outputs": []
    },
    {
      "cell_type": "markdown",
      "metadata": {
        "id": "f9pYyrgU7VG7"
      },
      "source": [
        "#19) Faça uma função em Python que receba três valores A, B, C e **verifique** se os mesmos podem formar um triângulo ou não. Caso possam, **dizer** que tipo: Escaleno, Isóscele ou Eqüilátero (0, 2 ou 3 lados iguais, respectivamente).\n",
        "Condição obrigatória: É triângulo se, somente se (A < B + C) e (B < A + C) e (C < A + B).\n",
        "\n",
        "Na célula do programa principal, use a função várias vezes, criando um Menu para o usuário.\n"
      ]
    },
    {
      "cell_type": "code",
      "metadata": {
        "id": "JHF6bwwOYyp4"
      },
      "source": [
        "def triangulo(a,b,c):\n",
        "  if (a + b < c) or (a + c < b) or (b + c < a):\n",
        "    return True # nao forma triangulo\n",
        "  else:\n",
        "    return False # forma triangulo"
      ],
      "execution_count": null,
      "outputs": []
    },
    {
      "cell_type": "code",
      "metadata": {
        "id": "v6K9HaWivZEm"
      },
      "source": [
        "# DIZER o tipo do triangulo ja sabendo se pode ou nao formar um\n",
        "while True:\n",
        "  a = int(input('coloque as medidas do triangulo: '))\n",
        "  b = int(input('coloque as medidas do triangulo: '))\n",
        "  c = int(input('coloque as medidas do triangulo: '))\n",
        "  if triangulo(a,b,c) == True:\n",
        "    print('Essas medidas nao forman um triangulo')\n",
        "  elif a == b == c:\n",
        "    print('Equilatero')\n",
        "  elif a==b or a==c or b==c:\n",
        "    print('Isósceles')\n",
        "  else:\n",
        "    print('Escaleno')\n",
        "  break"
      ],
      "execution_count": null,
      "outputs": []
    }
  ]
}